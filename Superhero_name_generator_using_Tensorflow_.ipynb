{
  "cells": [
    {
      "cell_type": "markdown",
      "metadata": {
        "id": "21XXWP7Fpt2L"
      },
      "source": [
        "# Superhero Name Generator using Tensorlflow"
      ]
    },
    {
      "cell_type": "code",
      "execution_count": 1,
      "metadata": {
        "id": "srULhalZpt2M",
        "colab": {
          "base_uri": "https://localhost:8080/"
        },
        "outputId": "2ca49853-3a5f-423c-81aa-d15678adb523"
      },
      "outputs": [
        {
          "output_type": "stream",
          "name": "stdout",
          "text": [
            "Cloning into 'superhero'...\n",
            "remote: Enumerating objects: 8, done.\u001b[K\n",
            "remote: Counting objects: 100% (8/8), done.\u001b[K\n",
            "remote: Compressing objects: 100% (7/7), done.\u001b[K\n",
            "remote: Total 8 (delta 0), reused 4 (delta 0), pack-reused 0\u001b[K\n",
            "Unpacking objects: 100% (8/8), done.\n"
          ]
        }
      ],
      "source": [
        "#Importing the dataset to be used\n",
        "!git clone https://github.com/am1tyadav/superhero"
      ]
    },
    {
      "cell_type": "code",
      "execution_count": 3,
      "metadata": {
        "id": "uq4CLmsLpt2P",
        "colab": {
          "base_uri": "https://localhost:8080/",
          "height": 36
        },
        "outputId": "eae2fbc1-a54a-4405-f965-60a279c9e767"
      },
      "outputs": [
        {
          "output_type": "execute_result",
          "data": {
            "text/plain": [
              "'jumpa\\t\\ndoctor fate\\t\\nstarlight\\t\\nisildur\\t\\nlasher\\t\\nvarvara\\t\\nthe target\\t\\naxel\\t\\nbattra\\t\\nchangeling\\t\\npyrrh'"
            ],
            "application/vnd.google.colaboratory.intrinsic+json": {
              "type": "string"
            }
          },
          "metadata": {},
          "execution_count": 3
        }
      ],
      "source": [
        "#Assigning a variable to be used globally within the notebook\n",
        "with open('superhero/superheroes.txt', 'r') as f:\n",
        "  dataset = f.read()\n",
        "\n",
        "dataset[:100]"
      ]
    },
    {
      "cell_type": "code",
      "execution_count": 9,
      "metadata": {
        "id": "JqhtLuAHpt2R"
      },
      "outputs": [],
      "source": [
        "#Imprt necessary libraries\n",
        "import tensorflow as tf\n",
        "from six import indexbytes"
      ]
    },
    {
      "cell_type": "code",
      "source": [
        "print(tf.__version__)"
      ],
      "metadata": {
        "colab": {
          "base_uri": "https://localhost:8080/"
        },
        "id": "aKwD9ADsrnQs",
        "outputId": "604d1ae6-052c-459e-a503-515ab2f5f64a"
      },
      "execution_count": 10,
      "outputs": [
        {
          "output_type": "stream",
          "name": "stdout",
          "text": [
            "2.8.2\n"
          ]
        }
      ]
    },
    {
      "cell_type": "code",
      "execution_count": 5,
      "metadata": {
        "id": "95Lo1Yqzpt2T"
      },
      "outputs": [],
      "source": [
        "#Creating a tokenizer from tensorflow library\n",
        "tokenizer = tf.keras.preprocessing.text.Tokenizer(\n",
        "    filters='!\"#$%&()*+,-./:;<=>?@[\\\\]^_`{|}~',\n",
        "    split='\\n',\n",
        ")"
      ]
    },
    {
      "cell_type": "code",
      "execution_count": 6,
      "metadata": {
        "id": "qYfC4sj2pt2V"
      },
      "outputs": [],
      "source": [
        "tokenizer.fit_on_texts(dataset)"
      ]
    },
    {
      "cell_type": "code",
      "execution_count": 11,
      "metadata": {
        "id": "EO4-dPM6pt2X",
        "colab": {
          "base_uri": "https://localhost:8080/"
        },
        "outputId": "129485b0-5cc7-49b9-d377-6b75c11be903"
      },
      "outputs": [
        {
          "output_type": "stream",
          "name": "stdout",
          "text": [
            "{1: '\\t', 2: 'a', 3: 'e', 4: 'r', 5: 'o', 6: 'n', 7: 'i', 8: ' ', 9: 't', 10: 's', 11: 'l', 12: 'm', 13: 'h', 14: 'd', 15: 'c', 16: 'u', 17: 'g', 18: 'k', 19: 'b', 20: 'p', 21: 'y', 22: 'w', 23: 'f', 24: 'v', 25: 'j', 26: 'z', 27: 'x', 28: 'q'}\n"
          ]
        }
      ],
      "source": [
        "char_to_index = tokenizer.word_index\n",
        "index_to_char = dict((v, k) for k, v in char_to_index.items())\n",
        "\n",
        "print(index_to_char)"
      ]
    },
    {
      "cell_type": "code",
      "execution_count": 12,
      "metadata": {
        "id": "N7iQLIXzpt2a",
        "colab": {
          "base_uri": "https://localhost:8080/"
        },
        "outputId": "9d64722e-7fb0-4c79-d079-75ec92ef055f"
      },
      "outputs": [
        {
          "output_type": "execute_result",
          "data": {
            "text/plain": [
              "['jumpa\\t',\n",
              " 'doctor fate\\t',\n",
              " 'starlight\\t',\n",
              " 'isildur\\t',\n",
              " 'lasher\\t',\n",
              " 'varvara\\t',\n",
              " 'the target\\t',\n",
              " 'axel\\t',\n",
              " 'battra\\t',\n",
              " 'changeling\\t']"
            ]
          },
          "metadata": {},
          "execution_count": 12
        }
      ],
      "source": [
        "#Converting between names and sequences\n",
        "names = dataset.splitlines()\n",
        "names[:10]"
      ]
    },
    {
      "cell_type": "code",
      "execution_count": 13,
      "metadata": {
        "id": "n_-TTfqipt2c",
        "colab": {
          "base_uri": "https://localhost:8080/"
        },
        "outputId": "819378c4-b326-481b-9d78-733578e0b84d"
      },
      "outputs": [
        {
          "output_type": "execute_result",
          "data": {
            "text/plain": [
              "[[25], [16], [12], [20], [2], [1]]"
            ]
          },
          "metadata": {},
          "execution_count": 13
        }
      ],
      "source": [
        "tokenizer.texts_to_sequences(names[0])"
      ]
    },
    {
      "cell_type": "code",
      "execution_count": 14,
      "metadata": {
        "id": "P6IsKH1Upt2e"
      },
      "outputs": [],
      "source": [
        "def name_to_seq(name):\n",
        "  return [tokenizer.texts_to_sequences(c)[0][0]for c in name]"
      ]
    },
    {
      "cell_type": "code",
      "execution_count": 15,
      "metadata": {
        "id": "yFUYhimKpt2h",
        "colab": {
          "base_uri": "https://localhost:8080/"
        },
        "outputId": "1584e29f-2068-47d9-facd-f29451b97313"
      },
      "outputs": [
        {
          "output_type": "execute_result",
          "data": {
            "text/plain": [
              "[25, 16, 12, 20, 2, 1]"
            ]
          },
          "metadata": {},
          "execution_count": 15
        }
      ],
      "source": [
        "name_to_seq(names[0])"
      ]
    },
    {
      "cell_type": "code",
      "execution_count": 16,
      "metadata": {
        "id": "ROhCqmhLpt2k"
      },
      "outputs": [],
      "source": [
        "def seq_to_name(seq):\n",
        "  return ''.join([index_to_char[i] for i in seq if i != 0])"
      ]
    },
    {
      "cell_type": "code",
      "source": [
        "seq_to_name(name_to_seq(names[0]))"
      ],
      "metadata": {
        "colab": {
          "base_uri": "https://localhost:8080/",
          "height": 36
        },
        "id": "HqZpSv2uDSu-",
        "outputId": "96b69efc-96a2-4b0c-c20f-8da21bf0f30b"
      },
      "execution_count": 17,
      "outputs": [
        {
          "output_type": "execute_result",
          "data": {
            "text/plain": [
              "'jumpa\\t'"
            ],
            "application/vnd.google.colaboratory.intrinsic+json": {
              "type": "string"
            }
          },
          "metadata": {},
          "execution_count": 17
        }
      ]
    },
    {
      "cell_type": "code",
      "execution_count": 19,
      "metadata": {
        "id": "zstNn-0dpt2m"
      },
      "outputs": [],
      "source": [
        "#creating sequences\n",
        "sequences = []\n",
        "\n",
        "for name in names:\n",
        "  seq = name_to_seq(name)\n",
        "  if len(seq) >= 2:\n",
        "    sequences += [seq[:i] for i in range(2, len(seq) + 1)]"
      ]
    },
    {
      "cell_type": "code",
      "execution_count": 20,
      "metadata": {
        "id": "BjRTMysvpt2o",
        "colab": {
          "base_uri": "https://localhost:8080/"
        },
        "outputId": "b9ca6435-85ab-4fa6-f3b2-b8c7c89a26e9"
      },
      "outputs": [
        {
          "output_type": "execute_result",
          "data": {
            "text/plain": [
              "[[25, 16],\n",
              " [25, 16, 12],\n",
              " [25, 16, 12, 20],\n",
              " [25, 16, 12, 20, 2],\n",
              " [25, 16, 12, 20, 2, 1],\n",
              " [14, 5],\n",
              " [14, 5, 15],\n",
              " [14, 5, 15, 9],\n",
              " [14, 5, 15, 9, 5],\n",
              " [14, 5, 15, 9, 5, 4]]"
            ]
          },
          "metadata": {},
          "execution_count": 20
        }
      ],
      "source": [
        "sequences[:10]"
      ]
    },
    {
      "cell_type": "code",
      "execution_count": 22,
      "metadata": {
        "id": "SR68pu2tpt2q",
        "colab": {
          "base_uri": "https://localhost:8080/"
        },
        "outputId": "fc072839-28c0-4e35-f8f5-5abf66deb714"
      },
      "outputs": [
        {
          "output_type": "stream",
          "name": "stdout",
          "text": [
            "33\n"
          ]
        }
      ],
      "source": [
        "#Print maximum length of sequences within the created sequences\n",
        "max_len = max([len (x) for x in sequences])\n",
        "print(max_len)"
      ]
    },
    {
      "cell_type": "code",
      "execution_count": 23,
      "metadata": {
        "id": "h_1BtWO7pt2r",
        "colab": {
          "base_uri": "https://localhost:8080/"
        },
        "outputId": "04a0d8e8-3d47-4d91-e406-4b275404a920"
      },
      "outputs": [
        {
          "output_type": "stream",
          "name": "stdout",
          "text": [
            "[ 0  0  0  0  0  0  0  0  0  0  0  0  0  0  0  0  0  0  0  0  0  0  0  0\n",
            "  0  0  0  0  0  0  0 25 16]\n"
          ]
        }
      ],
      "source": [
        "#Padding all sequences\n",
        "padded_sequence = tf.keras.preprocessing.sequence.pad_sequences(sequences, padding='pre',\n",
        "                                                                maxlen = max_len)\n",
        "print(padded_sequence[0])"
      ]
    },
    {
      "cell_type": "code",
      "execution_count": 25,
      "metadata": {
        "id": "sPlrLRpSpt2t",
        "colab": {
          "base_uri": "https://localhost:8080/"
        },
        "outputId": "22785f0b-e70f-4b75-8940-3e5b3c47dfc8"
      },
      "outputs": [
        {
          "output_type": "execute_result",
          "data": {
            "text/plain": [
              "(88279, 33)"
            ]
          },
          "metadata": {},
          "execution_count": 25
        }
      ],
      "source": [
        "#Display shape of the created and padded sequences\n",
        "padded_sequence.shape\n"
      ]
    },
    {
      "cell_type": "markdown",
      "metadata": {
        "id": "M-ZlS_018e0v"
      },
      "source": [
        "Creating training and validation sets"
      ]
    },
    {
      "cell_type": "code",
      "execution_count": 26,
      "metadata": {
        "id": "BE4BIeSnpt2v",
        "colab": {
          "base_uri": "https://localhost:8080/"
        },
        "outputId": "bb62a7e4-c97d-41d3-9a7c-b34528407fea"
      },
      "outputs": [
        {
          "output_type": "stream",
          "name": "stdout",
          "text": [
            "(88279, 32) (88279,)\n"
          ]
        }
      ],
      "source": [
        "x , y = padded_sequence[:, :-1], padded_sequence[:,-1]\n",
        "print(x.shape, y.shape)"
      ]
    },
    {
      "cell_type": "code",
      "execution_count": 27,
      "metadata": {
        "id": "KvM_8YMl8e0w",
        "colab": {
          "base_uri": "https://localhost:8080/"
        },
        "outputId": "702c008c-dd50-4e74-be9a-c5c1e86256a3"
      },
      "outputs": [
        {
          "output_type": "stream",
          "name": "stdout",
          "text": [
            "(66209, 32) (66209,)\n",
            "(22070, 32) (22070,)\n"
          ]
        }
      ],
      "source": [
        "from sklearn.model_selection import train_test_split\n",
        "\n",
        "x_train, x_test, y_train, y_test = train_test_split(x, y)\n",
        "\n",
        "print(x_train.shape, y_train.shape)\n",
        "print(x_test.shape , y_test.shape)"
      ]
    },
    {
      "cell_type": "code",
      "execution_count": 28,
      "metadata": {
        "id": "cgqRZtqnpt2x",
        "colab": {
          "base_uri": "https://localhost:8080/"
        },
        "outputId": "27525b4b-07f9-4d5b-8406-0624cfbd0b0d"
      },
      "outputs": [
        {
          "output_type": "stream",
          "name": "stdout",
          "text": [
            "29\n"
          ]
        }
      ],
      "source": [
        "num_chars = len(char_to_index.keys()) + 1\n",
        "print(num_chars)"
      ]
    },
    {
      "cell_type": "markdown",
      "metadata": {
        "id": "-m3EEIuf8e0w"
      },
      "source": [
        " Creating the Model"
      ]
    },
    {
      "cell_type": "code",
      "execution_count": 29,
      "metadata": {
        "id": "OmSj0ir88e0w",
        "colab": {
          "base_uri": "https://localhost:8080/"
        },
        "outputId": "4de4591d-00b8-492b-d49f-ac5a0c90000f"
      },
      "outputs": [
        {
          "output_type": "stream",
          "name": "stdout",
          "text": [
            "Model: \"sequential\"\n",
            "_________________________________________________________________\n",
            " Layer (type)                Output Shape              Param #   \n",
            "=================================================================\n",
            " embedding (Embedding)       (None, 32, 8)             232       \n",
            "                                                                 \n",
            " conv1d (Conv1D)             (None, 32, 64)            2624      \n",
            "                                                                 \n",
            " max_pooling1d (MaxPooling1D  (None, 16, 64)           0         \n",
            " )                                                               \n",
            "                                                                 \n",
            " lstm (LSTM)                 (None, 32)                12416     \n",
            "                                                                 \n",
            " dense (Dense)               (None, 29)                957       \n",
            "                                                                 \n",
            "=================================================================\n",
            "Total params: 16,229\n",
            "Trainable params: 16,229\n",
            "Non-trainable params: 0\n",
            "_________________________________________________________________\n"
          ]
        }
      ],
      "source": [
        "from tensorflow.keras.models import Sequential\n",
        "from tensorflow.keras.layers import Embedding , Conv1D, MaxPool1D, LSTM\n",
        "from tensorflow.keras.layers import Bidirectional, Dense\n",
        "\n",
        "model = Sequential([ Embedding(num_chars , 8,input_length= max_len-1),\n",
        "                    Conv1D(64, 5, strides=1, activation='tanh',padding='causal'),\n",
        "                    MaxPool1D(2),\n",
        "                    LSTM(32),\n",
        "                    Dense(num_chars, activation = 'softmax')])\n",
        "\n",
        "\n",
        "model.compile( loss = 'sparse_categorical_crossentropy',\n",
        "              optimizer = 'adam',\n",
        "              metrics = ['accuracy'])\n",
        "\n",
        "\n",
        "model.summary()"
      ]
    },
    {
      "cell_type": "markdown",
      "metadata": {
        "id": "vPEOv3QE8e0w"
      },
      "source": [
        " Training the Model"
      ]
    },
    {
      "cell_type": "code",
      "execution_count": 30,
      "metadata": {
        "id": "j0Ssl4qupt22",
        "colab": {
          "base_uri": "https://localhost:8080/"
        },
        "outputId": "59e96a0a-8519-4506-aaf0-e64a0933bf91"
      },
      "outputs": [
        {
          "output_type": "stream",
          "name": "stdout",
          "text": [
            "Epoch 1/50\n",
            "2070/2070 - 24s - loss: 2.7389 - accuracy: 0.1896 - val_loss: 2.5827 - val_accuracy: 0.2251 - 24s/epoch - 12ms/step\n",
            "Epoch 2/50\n",
            "2070/2070 - 12s - loss: 2.5265 - accuracy: 0.2389 - val_loss: 2.5015 - val_accuracy: 0.2440 - 12s/epoch - 6ms/step\n",
            "Epoch 3/50\n",
            "2070/2070 - 11s - loss: 2.4598 - accuracy: 0.2583 - val_loss: 2.4485 - val_accuracy: 0.2610 - 11s/epoch - 6ms/step\n",
            "Epoch 4/50\n",
            "2070/2070 - 10s - loss: 2.4147 - accuracy: 0.2715 - val_loss: 2.4214 - val_accuracy: 0.2710 - 10s/epoch - 5ms/step\n",
            "Epoch 5/50\n",
            "2070/2070 - 11s - loss: 2.3814 - accuracy: 0.2806 - val_loss: 2.3931 - val_accuracy: 0.2780 - 11s/epoch - 5ms/step\n",
            "Epoch 6/50\n",
            "2070/2070 - 11s - loss: 2.3524 - accuracy: 0.2878 - val_loss: 2.3678 - val_accuracy: 0.2843 - 11s/epoch - 5ms/step\n",
            "Epoch 7/50\n",
            "2070/2070 - 11s - loss: 2.3260 - accuracy: 0.2982 - val_loss: 2.3479 - val_accuracy: 0.2916 - 11s/epoch - 5ms/step\n",
            "Epoch 8/50\n",
            "2070/2070 - 11s - loss: 2.3009 - accuracy: 0.3055 - val_loss: 2.3272 - val_accuracy: 0.2987 - 11s/epoch - 6ms/step\n",
            "Epoch 9/50\n",
            "2070/2070 - 11s - loss: 2.2777 - accuracy: 0.3114 - val_loss: 2.3079 - val_accuracy: 0.3011 - 11s/epoch - 5ms/step\n",
            "Epoch 10/50\n",
            "2070/2070 - 12s - loss: 2.2560 - accuracy: 0.3181 - val_loss: 2.2990 - val_accuracy: 0.3053 - 12s/epoch - 6ms/step\n",
            "Epoch 11/50\n",
            "2070/2070 - 11s - loss: 2.2366 - accuracy: 0.3244 - val_loss: 2.2833 - val_accuracy: 0.3110 - 11s/epoch - 6ms/step\n",
            "Epoch 12/50\n",
            "2070/2070 - 10s - loss: 2.2196 - accuracy: 0.3287 - val_loss: 2.2726 - val_accuracy: 0.3133 - 10s/epoch - 5ms/step\n",
            "Epoch 13/50\n",
            "2070/2070 - 12s - loss: 2.2032 - accuracy: 0.3341 - val_loss: 2.2655 - val_accuracy: 0.3170 - 12s/epoch - 6ms/step\n",
            "Epoch 14/50\n",
            "2070/2070 - 11s - loss: 2.1872 - accuracy: 0.3376 - val_loss: 2.2535 - val_accuracy: 0.3203 - 11s/epoch - 5ms/step\n",
            "Epoch 15/50\n",
            "2070/2070 - 12s - loss: 2.1735 - accuracy: 0.3435 - val_loss: 2.2513 - val_accuracy: 0.3202 - 12s/epoch - 6ms/step\n",
            "Epoch 16/50\n",
            "2070/2070 - 12s - loss: 2.1595 - accuracy: 0.3463 - val_loss: 2.2469 - val_accuracy: 0.3225 - 12s/epoch - 6ms/step\n",
            "Epoch 17/50\n",
            "2070/2070 - 11s - loss: 2.1472 - accuracy: 0.3500 - val_loss: 2.2397 - val_accuracy: 0.3248 - 11s/epoch - 5ms/step\n",
            "Epoch 18/50\n",
            "2070/2070 - 11s - loss: 2.1363 - accuracy: 0.3553 - val_loss: 2.2318 - val_accuracy: 0.3278 - 11s/epoch - 5ms/step\n",
            "Epoch 19/50\n",
            "2070/2070 - 11s - loss: 2.1243 - accuracy: 0.3603 - val_loss: 2.2291 - val_accuracy: 0.3297 - 11s/epoch - 5ms/step\n",
            "Epoch 20/50\n",
            "2070/2070 - 11s - loss: 2.1150 - accuracy: 0.3634 - val_loss: 2.2216 - val_accuracy: 0.3329 - 11s/epoch - 5ms/step\n",
            "Epoch 21/50\n",
            "2070/2070 - 11s - loss: 2.1043 - accuracy: 0.3644 - val_loss: 2.2162 - val_accuracy: 0.3390 - 11s/epoch - 5ms/step\n",
            "Epoch 22/50\n",
            "2070/2070 - 12s - loss: 2.0949 - accuracy: 0.3695 - val_loss: 2.2146 - val_accuracy: 0.3353 - 12s/epoch - 6ms/step\n",
            "Epoch 23/50\n",
            "2070/2070 - 11s - loss: 2.0860 - accuracy: 0.3710 - val_loss: 2.2130 - val_accuracy: 0.3412 - 11s/epoch - 6ms/step\n",
            "Epoch 24/50\n",
            "2070/2070 - 11s - loss: 2.0777 - accuracy: 0.3726 - val_loss: 2.2110 - val_accuracy: 0.3418 - 11s/epoch - 5ms/step\n",
            "Epoch 25/50\n",
            "2070/2070 - 11s - loss: 2.0693 - accuracy: 0.3763 - val_loss: 2.2098 - val_accuracy: 0.3416 - 11s/epoch - 5ms/step\n",
            "Epoch 26/50\n",
            "2070/2070 - 12s - loss: 2.0617 - accuracy: 0.3783 - val_loss: 2.2074 - val_accuracy: 0.3421 - 12s/epoch - 6ms/step\n",
            "Epoch 27/50\n",
            "2070/2070 - 12s - loss: 2.0538 - accuracy: 0.3810 - val_loss: 2.2067 - val_accuracy: 0.3448 - 12s/epoch - 6ms/step\n",
            "Epoch 28/50\n",
            "2070/2070 - 12s - loss: 2.0466 - accuracy: 0.3842 - val_loss: 2.2048 - val_accuracy: 0.3440 - 12s/epoch - 6ms/step\n",
            "Epoch 29/50\n",
            "2070/2070 - 11s - loss: 2.0404 - accuracy: 0.3865 - val_loss: 2.2040 - val_accuracy: 0.3460 - 11s/epoch - 5ms/step\n",
            "Epoch 30/50\n",
            "2070/2070 - 11s - loss: 2.0331 - accuracy: 0.3881 - val_loss: 2.2028 - val_accuracy: 0.3448 - 11s/epoch - 5ms/step\n",
            "Epoch 31/50\n",
            "2070/2070 - 11s - loss: 2.0268 - accuracy: 0.3896 - val_loss: 2.2060 - val_accuracy: 0.3475 - 11s/epoch - 5ms/step\n",
            "Epoch 32/50\n",
            "2070/2070 - 12s - loss: 2.0204 - accuracy: 0.3914 - val_loss: 2.2055 - val_accuracy: 0.3492 - 12s/epoch - 6ms/step\n",
            "Epoch 33/50\n",
            "2070/2070 - 11s - loss: 2.0146 - accuracy: 0.3935 - val_loss: 2.2015 - val_accuracy: 0.3495 - 11s/epoch - 6ms/step\n",
            "Epoch 34/50\n",
            "2070/2070 - 11s - loss: 2.0088 - accuracy: 0.3957 - val_loss: 2.2009 - val_accuracy: 0.3553 - 11s/epoch - 5ms/step\n",
            "Epoch 35/50\n",
            "2070/2070 - 11s - loss: 2.0036 - accuracy: 0.3975 - val_loss: 2.2004 - val_accuracy: 0.3518 - 11s/epoch - 5ms/step\n",
            "Epoch 36/50\n",
            "2070/2070 - 10s - loss: 1.9975 - accuracy: 0.3992 - val_loss: 2.2003 - val_accuracy: 0.3544 - 10s/epoch - 5ms/step\n",
            "Epoch 37/50\n",
            "2070/2070 - 12s - loss: 1.9936 - accuracy: 0.4008 - val_loss: 2.2000 - val_accuracy: 0.3533 - 12s/epoch - 6ms/step\n"
          ]
        }
      ],
      "source": [
        "h = model.fit(x_train, y_train,\n",
        "              validation_data= (x_test, y_test),\n",
        "              epochs =50, verbose =2,\n",
        "              callbacks= [tf.keras.callbacks.EarlyStopping(monitor = 'val_accuracy', patience = 3)])\n"
      ]
    },
    {
      "cell_type": "code",
      "source": [
        "import matplotlib.pyplot as plt\n",
        "\n",
        "epoch_ran = len(h.history['loss']) \n",
        "\n",
        "plt.plot(range(0 , epoch_ran), h.history['val_accuracy'], label='validation')\n",
        "plt.plot(range(0 , epoch_ran), h.history['accuracy'], label='training')\n",
        "plt.show()"
      ],
      "metadata": {
        "colab": {
          "base_uri": "https://localhost:8080/",
          "height": 265
        },
        "id": "QrzgTH_aptf1",
        "outputId": "cb9336e8-653c-4d26-e92e-10e3e67f96e9"
      },
      "execution_count": 31,
      "outputs": [
        {
          "output_type": "display_data",
          "data": {
            "text/plain": [
              "<Figure size 432x288 with 1 Axes>"
            ],
            "image/png": "[encoded data removed]"
          },
          "metadata": {
            "needs_background": "light"
          }
        }
      ]
    },
    {
      "cell_type": "markdown",
      "metadata": {
        "id": "eXK7Yeyp8e0x"
      },
      "source": [
        " Generating example superhero names."
      ]
    },
    {
      "cell_type": "code",
      "execution_count": 36,
      "metadata": {
        "id": "9f50aTRcpt24"
      },
      "outputs": [],
      "source": [
        "def generate_names(seed):\n",
        "  for i in range(0, 40):\n",
        "    seq = name_to_seq(seed)\n",
        "    padded = tf.keras.preprocessing.sequence.pad_sequences([seq], padding= 'pre',\n",
        "                                                           maxlen = max_len -1,\n",
        "                                                           truncating ='pre')\n",
        "    \n",
        "    pred = model.predict(padded)[0]\n",
        "    pred_char = index_to_char[tf.argmax(pred).numpy()]\n",
        "    seed += pred_char\n",
        "\n",
        "    if pred_char == '\\t':\n",
        "      break\n",
        "  print(seed)"
      ]
    },
    {
      "cell_type": "code",
      "execution_count": 37,
      "metadata": {
        "id": "faQ0FInlpt26",
        "colab": {
          "base_uri": "https://localhost:8080/"
        },
        "outputId": "0fa9c307-fb3d-40a8-97c2-16c51e980af1"
      },
      "outputs": [
        {
          "output_type": "stream",
          "name": "stdout",
          "text": [
            "fing shark\t\n"
          ]
        }
      ],
      "source": [
        "generate_names('f')"
      ]
    }
  ],
  "metadata": {
    "accelerator": "GPU",
    "colab": {
      "collapsed_sections": [],
      "name": "Superhero name generator using Tensorflow .ipynb",
      "provenance": []
    },
    "kernelspec": {
      "display_name": "Python 3",
      "language": "python",
      "name": "python3"
    },
    "language_info": {
      "codemirror_mode": {
        "name": "ipython",
        "version": 3
      },
      "file_extension": ".py",
      "mimetype": "text/x-python",
      "name": "python",
      "nbconvert_exporter": "python",
      "pygments_lexer": "ipython3",
      "version": "3.8.3"
    }
  },
  "nbformat": 4,
  "nbformat_minor": 0
}